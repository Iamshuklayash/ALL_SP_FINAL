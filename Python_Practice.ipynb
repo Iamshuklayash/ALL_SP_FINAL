{
  "nbformat": 4,
  "nbformat_minor": 0,
  "metadata": {
    "colab": {
      "provenance": [],
      "toc_visible": true,
      "collapsed_sections": [
        "UEQdZKiw7nkr"
      ],
      "authorship_tag": "ABX9TyPELZdTr0aCNYVTTEfzbOQO",
      "include_colab_link": true
    },
    "kernelspec": {
      "name": "python3",
      "display_name": "Python 3"
    },
    "language_info": {
      "name": "python"
    }
  },
  "cells": [
    {
      "cell_type": "markdown",
      "metadata": {
        "id": "view-in-github",
        "colab_type": "text"
      },
      "source": [
        "<a href=\"https://colab.research.google.com/github/Iamshuklayash/ALL_SP_FINAL/blob/master/Python_Practice.ipynb\" target=\"_parent\"><img src=\"https://colab.research.google.com/assets/colab-badge.svg\" alt=\"Open In Colab\"/></a>"
      ]
    },
    {
      "cell_type": "code",
      "source": [],
      "metadata": {
        "id": "0dk0ZLXJ7c2g"
      },
      "execution_count": null,
      "outputs": []
    },
    {
      "cell_type": "markdown",
      "source": [
        "# Test Sectuib\n",
        "\n",
        "\n",
        "```python\n",
        "import random\n",
        "\n",
        "random_int = random.randint(5, 10)\n",
        "print(random_int)\n",
        "```\n",
        "\n"
      ],
      "metadata": {
        "id": "0n0NOWT6dBfH"
      }
    },
    {
      "cell_type": "code",
      "source": [
        "import random\n",
        "\n",
        "random_int = random.randint(5, 10)\n",
        "print(random_int)"
      ],
      "metadata": {
        "id": "U1ukGGvfdWfh"
      },
      "execution_count": null,
      "outputs": []
    },
    {
      "cell_type": "code",
      "source": [
        "## try it yourself\n"
      ],
      "metadata": {
        "id": "E6ubj_-ddaik"
      },
      "execution_count": null,
      "outputs": []
    },
    {
      "cell_type": "markdown",
      "source": [
        "# New Section"
      ],
      "metadata": {
        "id": "UEQdZKiw7nkr"
      }
    },
    {
      "cell_type": "code",
      "source": [],
      "metadata": {
        "id": "XF1hdA0NdZFi"
      },
      "execution_count": null,
      "outputs": []
    },
    {
      "cell_type": "markdown",
      "source": [],
      "metadata": {
        "id": "hM6LjmCn7mQc"
      }
    },
    {
      "cell_type": "markdown",
      "source": [
        "### Sorting\n"
      ],
      "metadata": {
        "id": "sDA_fO4o7nFF"
      }
    }
  ]
}